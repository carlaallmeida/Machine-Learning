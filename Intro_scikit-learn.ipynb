{
 "cells": [
  {
   "cell_type": "markdown",
   "id": "acc1df83",
   "metadata": {},
   "source": [
    "**Projeto Introdução ao Estudo da Biblioteca Scikit - Learn**\n",
    "\n",
    "O Objetivo do projeto é criar um modelo de treino e teste de classificação.\n",
    "\n",
    "Foi criado as features(que são os valores) para cada animal. Para cada feature foi usando o 1 = sim (verdadeiro) e 0 = não (falso). Exemplo: Para o dog1 foi criado as features [1,1,0) ou seja, o dog1 não tem pelo longo, não possui garras, e não late. \n",
    "\n",
    "Foi importado também um estimador chamado LinearSVC. O LinearSVC é uma classe que possibilita a criação de um modelo. \n",
    "\n",
    "O Modelo também mostra a taxa de acerto que, em inglês, é chamada de accuracy (em português, \"acurácia\"). E pode ser importada através do módulo metrics: \n",
    "\n",
    "**from sklearn.metrics import accuracy_score**"
   ]
  },
  {
   "cell_type": "code",
   "execution_count": 3,
   "id": "039726e3",
   "metadata": {},
   "outputs": [],
   "source": [
    "# Create features (1- sim or 0 -não)\n",
    "# Pelo longo?\n",
    "# Possui Garras?\n",
    "# Latem?\n",
    "\n",
    "cat1 = [1,1,0]\n",
    "cat2 = [0,1,0]\n",
    "cat3 = [0,0,0]\n",
    "\n",
    "dog1 = [0,0,1]\n",
    "dog2 = [1,0,0]\n",
    "dog3 = [1,1,1]\n",
    "\n",
    "# 1 -> cat, 0 -> dog\n",
    "\n",
    "treino_x = [cat1,cat2,cat3,dog1,dog2,dog3]\n",
    "treino_y = [1,1,1,0,0,0]"
   ]
  },
  {
   "cell_type": "code",
   "execution_count": 5,
   "id": "6302afe5",
   "metadata": {},
   "outputs": [
    {
     "ename": "ModuleNotFoundError",
     "evalue": "No module named 'sklearn'",
     "output_type": "error",
     "traceback": [
      "\u001b[1;31m---------------------------------------------------------------------------\u001b[0m",
      "\u001b[1;31mModuleNotFoundError\u001b[0m                       Traceback (most recent call last)",
      "Cell \u001b[1;32mIn[5], line 1\u001b[0m\n\u001b[1;32m----> 1\u001b[0m \u001b[38;5;28;01mfrom\u001b[39;00m \u001b[38;5;21;01msklearn\u001b[39;00m\u001b[38;5;21;01m.\u001b[39;00m\u001b[38;5;21;01msvm\u001b[39;00m \u001b[38;5;28;01mimport\u001b[39;00m LinearSVC\n\u001b[0;32m      3\u001b[0m model \u001b[38;5;241m=\u001b[39m LinearSVC()\n\u001b[0;32m      4\u001b[0m model\u001b[38;5;241m.\u001b[39mfit(treino_x, treino_y)\n",
      "\u001b[1;31mModuleNotFoundError\u001b[0m: No module named 'sklearn'"
     ]
    }
   ],
   "source": [
    "from sklearn.svm import LinearSVC\n",
    "\n",
    "model = LinearSVC()\n",
    "model.fit(treino_x, treino_y)\n"
   ]
  },
  {
   "cell_type": "code",
   "execution_count": 6,
   "id": "eba05636",
   "metadata": {},
   "outputs": [],
   "source": [
    "animal_misterioso1 = [1,1,1]\n",
    "animal_misterioso2 = [1,1,0]\n",
    "animal_misterioso3 = [0,1,1]\n",
    "\n",
    "teste_x = [animal_misterioso1, animal_misterioso2, animal_misterioso3]\n",
    "teste_y = [0,1,1]"
   ]
  },
  {
   "cell_type": "code",
   "execution_count": 7,
   "id": "5234bfac",
   "metadata": {},
   "outputs": [
    {
     "ename": "NameError",
     "evalue": "name 'model' is not defined",
     "output_type": "error",
     "traceback": [
      "\u001b[1;31m---------------------------------------------------------------------------\u001b[0m",
      "\u001b[1;31mNameError\u001b[0m                                 Traceback (most recent call last)",
      "Cell \u001b[1;32mIn[7], line 1\u001b[0m\n\u001b[1;32m----> 1\u001b[0m previsoes \u001b[38;5;241m=\u001b[39m \u001b[43mmodel\u001b[49m\u001b[38;5;241m.\u001b[39mpredict(teste_x)\n\u001b[0;32m      2\u001b[0m \u001b[38;5;28mprint\u001b[39m(previsoes)\n",
      "\u001b[1;31mNameError\u001b[0m: name 'model' is not defined"
     ]
    }
   ],
   "source": [
    "previsoes = model.predict(teste_x)\n",
    "print(previsoes)"
   ]
  },
  {
   "cell_type": "code",
   "execution_count": null,
   "id": "6aa3caae",
   "metadata": {},
   "outputs": [
    {
     "name": "stdout",
     "output_type": "stream",
     "text": [
      "Taxa de Acerto: 66.66666666666666\n"
     ]
    }
   ],
   "source": [
    "corretos = (previsoes == teste_y).sum()\n",
    "total = len(teste_x)\n",
    "taxa_acerto = corretos/total\n",
    "print(\"Taxa de Acerto:\",taxa_acerto * 100)"
   ]
  },
  {
   "cell_type": "code",
   "execution_count": 8,
   "id": "7b8fcc90",
   "metadata": {},
   "outputs": [
    {
     "ename": "ModuleNotFoundError",
     "evalue": "No module named 'sklearn'",
     "output_type": "error",
     "traceback": [
      "\u001b[1;31m---------------------------------------------------------------------------\u001b[0m",
      "\u001b[1;31mModuleNotFoundError\u001b[0m                       Traceback (most recent call last)",
      "Cell \u001b[1;32mIn[8], line 1\u001b[0m\n\u001b[1;32m----> 1\u001b[0m \u001b[38;5;28;01mfrom\u001b[39;00m \u001b[38;5;21;01msklearn\u001b[39;00m\u001b[38;5;21;01m.\u001b[39;00m\u001b[38;5;21;01mmetrics\u001b[39;00m \u001b[38;5;28;01mimport\u001b[39;00m accuracy_score\n\u001b[0;32m      3\u001b[0m taxa_acerto \u001b[38;5;241m=\u001b[39m accuracy_score(teste_y, previsoes)\n\u001b[0;32m      4\u001b[0m \u001b[38;5;28mprint\u001b[39m(\u001b[38;5;124m\"\u001b[39m\u001b[38;5;124mTaxa de Acerto: \u001b[39m\u001b[38;5;132;01m%.2f\u001b[39;00m\u001b[38;5;124m\"\u001b[39m \u001b[38;5;241m%\u001b[39m (taxa_acerto \u001b[38;5;241m*\u001b[39m \u001b[38;5;241m100\u001b[39m))\n",
      "\u001b[1;31mModuleNotFoundError\u001b[0m: No module named 'sklearn'"
     ]
    }
   ],
   "source": [
    "from sklearn.metrics import accuracy_score\n",
    "\n",
    "taxa_acerto = accuracy_score(teste_y, previsoes)\n",
    "print(\"Taxa de Acerto: %.2f\" % (taxa_acerto * 100))"
   ]
  }
 ],
 "metadata": {
  "kernelspec": {
   "display_name": "Python 3 (ipykernel)",
   "language": "python",
   "name": "python3"
  },
  "language_info": {
   "codemirror_mode": {
    "name": "ipython",
    "version": 3
   },
   "file_extension": ".py",
   "mimetype": "text/x-python",
   "name": "python",
   "nbconvert_exporter": "python",
   "pygments_lexer": "ipython3",
   "version": "3.12.2"
  }
 },
 "nbformat": 4,
 "nbformat_minor": 5
}
