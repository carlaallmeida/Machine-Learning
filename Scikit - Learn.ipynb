{
 "cells": [
  {
   "cell_type": "markdown",
   "id": "acc1df83",
   "metadata": {},
   "source": [
    "**Projeto Introdução ao Estudo da Biblioteca Scikit - Learn**\n",
    "\n",
    "O Objetivo do projeto é criar um modelo de treino e teste de classificação.\n",
    "\n",
    "Foi criado as features(que são os valores) para cada animal. Para cada feature foi usando o 1 = sim (verdadeiro) e 0 = não (falso). Exemplo: Para o dog1 foi criado as features [1,1,0) ou seja, o dog1 não tem pelo longo, não possui garras, e não late. \n",
    "\n",
    "Foi importado também um estimador chamado LinearSVC. O LinearSVC é uma classe que possibilita a criação de um modelo. \n",
    "\n",
    "O Modelo também mostra a taxa de acerto que, em inglês, é chamada de accuracy (em português, \"acurácia\"). E pode ser importada através do módulo metrics: \n",
    "\n",
    "**from sklearn.metrics import accuracy_score**"
   ]
  },
  {
   "cell_type": "code",
   "execution_count": 3,
   "id": "039726e3",
   "metadata": {},
   "outputs": [],
   "source": [
    "# Create features (1- sim or 0 -não)\n",
    "# Pelo longo?\n",
    "# Possui Garras?\n",
    "# Latem?\n",
    "\n",
    "cat1 = [1,1,0]\n",
    "cat2 = [0,1,0]\n",
    "cat3 = [0,0,0]\n",
    "\n",
    "dog1 = [0,0,1]\n",
    "dog2 = [1,0,0]\n",
    "dog3 = [1,1,1]\n",
    "\n",
    "# 1 -> cat, 0 -> dog\n",
    "\n",
    "treino_x = [cat1,cat2,cat3,dog1,dog2,dog3]\n",
    "treino_y = [1,1,1,0,0,0]"
   ]
  },
  {
   "cell_type": "code",
   "execution_count": 5,
   "id": "6302afe5",
   "metadata": {},
   "source": [
    "from sklearn.svm import LinearSVC\n",
    "\n",
    "model = LinearSVC()\n",
    "model.fit(treino_x, treino_y)\n"
   ]
  },
  {
   "cell_type": "code",
   "execution_count": 6,
   "id": "eba05636",
   "metadata": {},
   "outputs": [],
   "source": [
    "animal_misterioso1 = [1,1,1]\n",
    "animal_misterioso2 = [1,1,0]\n",
    "animal_misterioso3 = [0,1,1]\n",
    "\n",
    "teste_x = [animal_misterioso1, animal_misterioso2, animal_misterioso3]\n",
    "teste_y = [0,1,1]"
   ]
  },
  {
   "cell_type": "code",
   "execution_count": 7,
   "id": "5234bfac",
   "metadata": {},
   "outputs": [
   ],
   "source": [
    "previsoes = model.predict(teste_x)\n",
    "print(previsoes)"
   ]
  },
  {
   "cell_type": "code",
   "execution_count": null,
   "id": "6aa3caae",
   "metadata": {},
   "outputs": [
    {
     "name": "stdout",
     "output_type": "stream",
     "text": [
      "Taxa de Acerto: 66.66666666666666\n"
     ]
    }
   ],
   "source": [
    "corretos = (previsoes == teste_y).sum()\n",
    "total = len(teste_x)\n",
    "taxa_acerto = corretos/total\n",
    "print(\"Taxa de Acerto:\",taxa_acerto * 100)"
   ]
  },
  {
   "cell_type": "code",
   "execution_count": 8,
   "id": "7b8fcc90",
   "metadata": {},
    }
   ],
   "source": [
    "from sklearn.metrics import accuracy_score\n",
    "\n",
    "taxa_acerto = accuracy_score(teste_y, previsoes)\n",
    "print(\"Taxa de Acerto: %.2f\" % (taxa_acerto * 100))"
   ]
  }
 ],
 "metadata": {
  "kernelspec": {
   "display_name": "Python 3 (ipykernel)",
   "language": "python",
   "name": "python3"
  },
  "language_info": {
   "codemirror_mode": {
    "name": "ipython",
    "version": 3
   },
   "file_extension": ".py",
   "mimetype": "text/x-python",
   "name": "python",
   "nbconvert_exporter": "python",
   "pygments_lexer": "ipython3",
   "version": "3.12.2"
  }
 },
 "nbformat": 4,
 "nbformat_minor": 5
}
